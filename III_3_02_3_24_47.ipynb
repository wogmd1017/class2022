{
  "nbformat": 4,
  "nbformat_minor": 0,
  "metadata": {
    "colab": {
      "name": "III-3-02_3_24-47.ipynb",
      "provenance": [],
      "collapsed_sections": [],
      "include_colab_link": true
    },
    "kernelspec": {
      "name": "python3",
      "display_name": "Python 3"
    },
    "language_info": {
      "name": "python"
    }
  },
  "cells": [
    {
      "cell_type": "markdown",
      "metadata": {
        "id": "view-in-github",
        "colab_type": "text"
      },
      "source": [
        "<a href=\"https://colab.research.google.com/github/wogmd1017/class2022/blob/main/III_3_02_3_24_47.ipynb\" target=\"_parent\"><img src=\"https://colab.research.google.com/assets/colab-badge.svg\" alt=\"Open In Colab\"/></a>"
      ]
    },
    {
      "cell_type": "markdown",
      "metadata": {
        "id": "R4YeCjM0xOmo"
      },
      "source": [
        "1024번 문제<p>\n",
        "단어 2개를 붙이는 연산을 배우는 문제입니다.<p>\n",
        "input() 으로 단어 2개를 입력받고 덧셈 기호로 단어를 합칩니다.<p>"
      ]
    },
    {
      "cell_type": "code",
      "metadata": {
        "id": "eDTPGZ20xQnK"
      },
      "source": [
        "a,b=input().split()\n",
        "s=a+b\n",
        "print(s)\n",
        "print(a+b) #추가 코드 변수 s 를 쓰지 않고 a+b를 바로 한 경우 확인용\n",
        "print(a,b) #추가 코드 변수 a,b에 입력된 값 확인용\n",
        "print(\"asdf\"+\"3344\") #추가 코드 변수를 사용하지 않고 문자 덧셈 확인용"
      ],
      "execution_count": null,
      "outputs": []
    },
    {
      "cell_type": "markdown",
      "metadata": {
        "id": "HhBi6kK3xUAw"
      },
      "source": [
        "1025번 문제<p>\n",
        "input()으로 입력된 값의 형태를 정확히 알 수 있는 중요한 문제입니다.<p>\n",
        "파이썬은 특성상 변수의 유형을 정하지 않아도 자동으로 저장하며 조심해야 할 점은 input() 으로 저장한 값은 숫자가 아닌 문자나 문자열로 저장합니다.<p>\n",
        "숫자를 입력했다고 숫자로 저장되지 않는다는 점을 꼭 유의합시다."
      ]
    },
    {
      "cell_type": "code",
      "metadata": {
        "id": "5Nll--vuzsaL"
      },
      "source": [
        "a,b=input().split()\n",
        "c=int(a)+int(b)\n",
        "print(c)\n",
        "d=a+b #추가 코드 int를 하지 않고 더했을 때 확인용\n",
        "print(d)"
      ],
      "execution_count": null,
      "outputs": []
    },
    {
      "cell_type": "code",
      "metadata": {
        "id": "b3EuH1Zzi-zh"
      },
      "source": [
        "a,b=input().split()\n",
        "c=a+int(b) #변수 하나를 int하지 않았을 때 확인용\n",
        "print(c)\n"
      ],
      "execution_count": null,
      "outputs": []
    },
    {
      "cell_type": "markdown",
      "metadata": {
        "id": "wAOp61o60DZs"
      },
      "source": [
        "1026번 문제<p>\n",
        "입력받은 두 실수의 합을 출력하는 문제로 1025번에서 int대신 float를 사용하면 됩니다.<p>\n",
        "26번은 입력 형태를 꼭 확인하기 바랍니다."
      ]
    },
    {
      "cell_type": "code",
      "metadata": {
        "id": "0B_UR77sjt1j"
      },
      "source": [
        "a=input()\n",
        "b=input()\n",
        "d=float(a)+float(b)\n",
        "print(d)"
      ],
      "execution_count": null,
      "outputs": []
    },
    {
      "cell_type": "code",
      "metadata": {
        "id": "4oWgMgUj0qr9"
      },
      "source": [
        "a,b=input().split()\n",
        "c=float(a)+float(b)\n",
        "print(c)"
      ],
      "execution_count": null,
      "outputs": []
    },
    {
      "cell_type": "markdown",
      "metadata": {
        "id": "crpSwWUb00K5"
      },
      "source": [
        "1027번, 1028번 문제<p>\n",
        "입력받은 정수를 16진수로 바꾸는 문제입니다.<p>\n",
        "진법변환은 천천히 익혀도 되니 1027~1029번은 수행평가에서 제외힙니다.<p>\n",
        "출력할 때 '%x', '%X', '%o', '%d' 는 각각 소문자 16진수, 대문자 16진수, 8진수, 10진수를 의미합니다.<p>\n",
        "이 뒤에 %를 붙이고 뒤에 출력할 숫자 혹은 변수를 입력합니다.<p>\n",
        "16진수의 경우 10=a, 11=b, 12=c, 13=d, 14=e, 15=f 로 표기됩니다.<p>\n",
        "<<도전자용, 시험에 나오지 않음.>>"
      ]
    },
    {
      "cell_type": "code",
      "metadata": {
        "id": "vhPEZLr21Igr"
      },
      "source": [
        "a=input()\n",
        "n=int(a)\n",
        "print('%x' % n)\n",
        "print('%x %X %o %d' % (n,n,n,n))"
      ],
      "execution_count": null,
      "outputs": []
    },
    {
      "cell_type": "markdown",
      "metadata": {
        "id": "LG7YymzJ2OWP"
      },
      "source": [
        "1029번 문제<p>\n",
        "다른 진수로 출력하는 것은 1027,1028번 문제와 동일하지만 16진수를 입력받는 것도 포함하는 문제입니다.<p>\n",
        "a에 저장되어 있는 입력 값을 16진수로 읽어들여 n에 저장하는 방법은<p>\n",
        "n=int(a,16) 이 됩니다.<p>\n",
        "출력은 이전 문제와 동일합니다.<p>\n",
        "<<도전자용, 시험에 나오지 않음.>>"
      ]
    },
    {
      "cell_type": "code",
      "metadata": {
        "id": "rTpJ3mnB2eH5"
      },
      "source": [
        "a=input()\n",
        "n=int(a,16)\n",
        "print('%x %X %o %d' % (n,n,n,n))\n",
        "print(a,n) #추가 코드 a와 n에 입력된 값 확인용"
      ],
      "execution_count": null,
      "outputs": []
    },
    {
      "cell_type": "markdown",
      "metadata": {
        "id": "1Jdkk-cp3OQY"
      },
      "source": [
        "1030번, 1031번 문제<p>\n",
        "아스키코드 혹은 유니코드로 변환하는 문제입니다.<p>\n",
        "지금은 크게 사용할 일이 없지만 유용하기 때문에 고등학교 혹은 대학교에서는 꼭 배워보길 바랍니다.<p>\n",
        "입력받은 문자의 유니코드값을 구하는 명령어는 ord() 이고<p>\n",
        "반대로 입력받은 유니코드 숫자에 해당하는 문자를 구하는 명령어는 chr() 입니다.<p>\n",
        "<<도전자용, 시험에 나오지 않음.>>"
      ]
    },
    {
      "cell_type": "code",
      "metadata": {
        "id": "0CA3UcIz3eQI"
      },
      "source": [
        "n=ord(input())\n",
        "print(n)"
      ],
      "execution_count": null,
      "outputs": []
    },
    {
      "cell_type": "code",
      "metadata": {
        "id": "hNRw5bsCYKBC"
      },
      "source": [
        "c=int(input())\n",
        "print(chr(c))"
      ],
      "execution_count": null,
      "outputs": []
    },
    {
      "cell_type": "markdown",
      "metadata": {
        "id": "5f0PICtM3niY"
      },
      "source": [
        "1032번 문제<p>\n",
        "입력된 정수의 부호를 바꾸는 문제입니다.<p>\n",
        "쉬운 연산자인 -를 숫자 변수 앞에 붙이면 부호가 바뀝니다.<p>\n",
        "<<도전자용, 시험에 나오지 않음.>>"
      ]
    },
    {
      "cell_type": "code",
      "metadata": {
        "id": "KzHeXrqO4hML"
      },
      "source": [
        "a=int(input())\n",
        "print(a,-a)"
      ],
      "execution_count": null,
      "outputs": []
    },
    {
      "cell_type": "markdown",
      "metadata": {
        "id": "tsS-CZiW5MhT"
      },
      "source": [
        "1033번 문제<p>\n",
        "유니코드 값(숫자)를 연산해서 문자를 다루는 문제입니다.<p>\n",
        "1030,1031번에서 문자를 숫자로, 숫자를 문자로 바꾸는 연습을 하는 이유가 이런 문제를 위해서입니다.<p>\n",
        "숫자 연산으로 문자를 다룰 수 있는 점이 편리합니다.<p>\n",
        "<<도전자용, 시험에 나오지 않음.>>"
      ]
    },
    {
      "cell_type": "code",
      "metadata": {
        "id": "eCzhrvv45eTH"
      },
      "source": [
        "n=int(ord(input()))\n",
        "print(chr(n+1))"
      ],
      "execution_count": null,
      "outputs": []
    },
    {
      "cell_type": "markdown",
      "metadata": {
        "id": "O8zLNTbbEMS6"
      },
      "source": [
        "1034번 문제<p>\n",
        "정수값을 2개 입력받아 첫 번째 정수에서 두 번째 정수를 뺀 값을 출력하는 문제입니다.<p>\n",
        "입력받는 정수는 공백으로 구분되어 입력되고, 출력은 정수값을 출력시키면 됩니다."
      ]
    },
    {
      "cell_type": "code",
      "metadata": {
        "id": "Vg7G1Cd-E5w6"
      },
      "source": [
        "a,b=input().split()\n",
        "c=int(a)-int(b)\n",
        "print(c)"
      ],
      "execution_count": null,
      "outputs": []
    },
    {
      "cell_type": "markdown",
      "metadata": {
        "id": "OfDYCBEuFIbG"
      },
      "source": [
        "1035번 문제<p>\n",
        "실수값을 2개 입력받아 두 수의 곱을 출력하는 문제입니다.<p>\n",
        "입력받는 실수 2개는 공백으로 구분하고, 출력은 실수값을 출력하면 됩니다."
      ]
    },
    {
      "cell_type": "code",
      "metadata": {
        "id": "qhoNrBDbHLbO"
      },
      "source": [
        "a,b=input().split()\n",
        "c=float(a)*float(b)\n",
        "print(c)"
      ],
      "execution_count": null,
      "outputs": []
    },
    {
      "cell_type": "markdown",
      "metadata": {
        "id": "MDb51pC9InRh"
      },
      "source": [
        "1036번 문제<p>\n",
        "영어 단어와 자연수를 입력받아 자연수만큼 영어 단어를 반복해서 출력하는 문제입니다.<p>\n",
        "입력은 공백으로 구분하여 입력받고 출력은 공백이나 줄바꿈없이 한 줄에 출력합니다."
      ]
    },
    {
      "cell_type": "code",
      "metadata": {
        "id": "2QSDxcotI4W8"
      },
      "source": [
        "w,n=input().split()\n",
        "print(w*int(n))"
      ],
      "execution_count": null,
      "outputs": []
    },
    {
      "cell_type": "markdown",
      "metadata": {
        "id": "-37-NNuUJX7y"
      },
      "source": [
        "1037번 문제<p>\n",
        "문장과 자연수를 입력받아 자연수만큼 문장을 반복해서 출력하는 문제입니다.<p>\n",
        "입력은 자연수를 먼저 입력받고 줄을 바꾸어 문장을 입력받습니다.<p>\n",
        "출력은 문장을 줄바꿈없이 한 줄에 출력합니다.\n"
      ]
    },
    {
      "cell_type": "code",
      "metadata": {
        "id": "-zr6fELKKCmS"
      },
      "source": [
        "n=input()\n",
        "s=input()\n",
        "print(int(n)*s)"
      ],
      "execution_count": null,
      "outputs": []
    },
    {
      "cell_type": "markdown",
      "metadata": {
        "id": "5ANPT0m-MK6k"
      },
      "source": [
        "1038번 문제<p>\n",
        "정수 2개를 입력받아 첫 번째 정수를 두 번째 정수만큼 곱한 값을 출력하는 문제입니다.<p>\n",
        "거듭제곱은 보통 ^ 기호를 많이 쓰지만 파이썬에서는 ** 기호를 씁니다.<p>\n",
        "입력은 공백으로 구분하여 두 정수를 입력받고, 출력은 정수값을 출력하면 됩니다."
      ]
    },
    {
      "cell_type": "code",
      "source": [
        "a,b=input().split()\n",
        "c=int(a)**int(b)\n",
        "print(c)"
      ],
      "metadata": {
        "id": "H-262mqktQSQ"
      },
      "execution_count": null,
      "outputs": []
    },
    {
      "cell_type": "code",
      "metadata": {
        "id": "BofW0_1APVEr"
      },
      "source": [
        "a,b=input().split()\n",
        "print(int(a)**int(b)) #추가 코드 변수c를 사용하지 않고 이렇게 바로 출력해도 괜찮음."
      ],
      "execution_count": null,
      "outputs": []
    },
    {
      "cell_type": "markdown",
      "metadata": {
        "id": "lyJECPDVPsno"
      },
      "source": [
        "1039번 문제<p>\n",
        "실수 2개를 입력받아 첫 번째 실수를 두 번째 실수만큼 거듭제곱한 값을 출력하는 문제입니다.<p>\n",
        "실수의 거듭제곱을 중학교에서 배우지 않았기 때문에 이 문제는 넘어가도록 하겠습니다.<p>\n",
        "<<도전자용, 시험에 나오지 않음.>>"
      ]
    },
    {
      "cell_type": "code",
      "metadata": {
        "id": "zyv3UCpKQNap"
      },
      "source": [
        "a,b=input().split()\n",
        "print(float(a)**float(b))"
      ],
      "execution_count": null,
      "outputs": []
    },
    {
      "cell_type": "markdown",
      "metadata": {
        "id": "H4PSwSSaRHpL"
      },
      "source": [
        "1040번 문제<p>\n",
        "정수 2개를 입력받아 첫 번째 정수를 두 번째 정수로 나눈 몫을 출력하는 문제입니다.<p>\n",
        "파이썬에서 나눈 몫을 구하는 연산자는 // 입니다.<p>\n",
        "정수 2개는 공백으로 구분하여 입력받고 출력은 몫을 출력하면 됩니다."
      ]
    },
    {
      "cell_type": "code",
      "source": [
        "a,b=input().split()\n",
        "a=int(a) #변수a에 들어있는 값을 정수로 바꿔서 변수a에 넣으라는 의미로 이렇게 사용하기도 함.\n",
        "b=int(b)\n",
        "print(a//b)"
      ],
      "metadata": {
        "id": "eLRwGTW0txr3"
      },
      "execution_count": null,
      "outputs": []
    },
    {
      "cell_type": "code",
      "metadata": {
        "id": "ejY9AgYmRwaf"
      },
      "source": [
        "a,b=input().split()\n",
        "print(int(a)//int(b)) #추가 코드 이렇게 해도 결과는 똑같음."
      ],
      "execution_count": null,
      "outputs": []
    },
    {
      "cell_type": "markdown",
      "metadata": {
        "id": "_bMa5jkyJIV1"
      },
      "source": [
        "1041번 문제<p>\n",
        "정수 2개를 입력받아 첫 번째 정수를 두 번째 정수로 나누고 난 후 나머지를 출력하는 문제입니다.<p>\n",
        "파이썬에서 나눈 나머지를 구하는 연산자는 % 입니다.<p>\n",
        "예를 들어 5%3은 5를 3으로 나눈 나머지로 2가 됩니다.<p>\n",
        "정수 2개는 공백으로 구분하여 입력받고 출력은 나머지를 출력하면 됩니다."
      ]
    },
    {
      "cell_type": "code",
      "source": [
        "a,b=input().split()\n",
        "a=int(a)\n",
        "b=int(b)\n",
        "print(a%b)"
      ],
      "metadata": {
        "id": "eAFUvYhNuWmg"
      },
      "execution_count": null,
      "outputs": []
    },
    {
      "cell_type": "code",
      "metadata": {
        "id": "oQgD3GP8MF8x"
      },
      "source": [
        "a,b=input().split()\n",
        "print(int(a)%int(b))"
      ],
      "execution_count": null,
      "outputs": []
    },
    {
      "cell_type": "markdown",
      "metadata": {
        "id": "zOGLAvUNMU0D"
      },
      "source": [
        "1042번 문제<p>\n",
        "실수 1개를 입력받아 소숫점 이하 2번째 자리까지의 정확도로 반올림한 값을 출력하는 문제입니다.<p>\n",
        "실수 f를 소숫점 이하 n번째 자리까지의 정확도로 반올림하는 연산은 round(f,n) 입니다.<p>\n",
        "소숫점 이하 몇 째 자리에서 반올림한다는 표현과 소숫점 이하 몇 째 자리까지의 정확도로 반올림한다라는 표현을 잘 구별하세요."
      ]
    },
    {
      "cell_type": "code",
      "source": [
        "f=input()\n",
        "f=float(f)\n",
        "print(round(f,2))"
      ],
      "metadata": {
        "id": "P0HxjkKXupOZ"
      },
      "execution_count": null,
      "outputs": []
    },
    {
      "cell_type": "code",
      "metadata": {
        "id": "9yp0nwmsMX2o"
      },
      "source": [
        "f=float(input()) #위 코드의 1,2번줄을 이렇게 줄일 수도 있음. 단, split로 쪼개서 받을 때는 이렇게 사용할 수 없는 점에 주의.\n",
        "print(round(f,2))"
      ],
      "execution_count": null,
      "outputs": []
    },
    {
      "cell_type": "markdown",
      "metadata": {
        "id": "HHaICLys8aEW"
      },
      "source": [
        "1043번 문제<p>\n",
        "실수 2개를 입력받아 첫 번째 실수를 두 번째 실수로 나눈 값을 출력하는 문제입니다.<p>\n",
        "나눈 값을 소숫점 이하 3번째 자리까지의 정확도로 반올림한 값을 출력합니다."
      ]
    },
    {
      "cell_type": "code",
      "metadata": {
        "id": "XZ_MEMXJ9VBB"
      },
      "source": [
        "f1,f2=input().split()\n",
        "f1=float(f1)\n",
        "f2=float(f2)\n",
        "print(round(f1/f2,3))"
      ],
      "execution_count": null,
      "outputs": []
    },
    {
      "cell_type": "markdown",
      "metadata": {
        "id": "KQ-KJEjf-dtP"
      },
      "source": [
        "1044번 문제<p>\n",
        "정수 2개를 입력받아 합, 차, 곱, 몫, 나머지, 나눈 값을 출력하는 문제입니다.<p>\n",
        "나눈 값을 소숫점 이하 2번째 자리까지의 정확도로 반올림한 값을 출력합니다.<p>\n",
        "합, 차, 곱, 몫, 나머지, 나눈 값을 줄을 바꾸어 출력합니다."
      ]
    },
    {
      "cell_type": "code",
      "metadata": {
        "id": "F2mnwY_Kbrlc"
      },
      "source": [
        "a,b=input().split()\n",
        "a=int(a)\n",
        "b=int(b)\n",
        "print(a+b)\n",
        "print(a-b)\n",
        "print(a*b)\n",
        "print(a//b)\n",
        "print(a%b)\n",
        "print(round(a/b,2))"
      ],
      "execution_count": null,
      "outputs": []
    },
    {
      "cell_type": "markdown",
      "metadata": {
        "id": "ADulNuEPc3R_"
      },
      "source": [
        "1045번 문제<p>\n",
        "정수 3개를 입력받아 합과 평균을 출력하는 문제입니다.<p>\n",
        "평균은 3 정수의 합을 3으로 나눈 값을 소숫점 이하 2번째 자리까지의 정확도로 반올림한 값을 출력합니다.<p>\n",
        "입력과 출력은 공백으로 구분하여 입력하고 출력합니다."
      ]
    },
    {
      "cell_type": "code",
      "metadata": {
        "colab": {
          "base_uri": "https://localhost:8080/"
        },
        "id": "3CPfOOkyeR17",
        "outputId": "fc5d4319-c7de-4a55-ff31-065ee30b2224"
      },
      "source": [
        "a,b,c=input().split()\n",
        "a=int(a)\n",
        "b=int(b)\n",
        "c=int(c)\n",
        "print(a+b+c,round((a+b+c)/3,2))"
      ],
      "execution_count": null,
      "outputs": [
        {
          "output_type": "stream",
          "name": "stdout",
          "text": [
            "1 2 3\n",
            "6 2.0\n"
          ]
        }
      ]
    },
    {
      "cell_type": "markdown",
      "metadata": {
        "id": "cx6A8tz-en1k"
      },
      "source": [
        "1046번 문제<p>\n",
        "비트시프트를 이용해서 정수의 2배 값을 출력하는 문제입니다.<p>\n",
        "2진수로 저장된 값을 왼쪽이나 오른쪽으로 1비트씩 이동시키면 2배 곱하거나 2로 나눈 효과를 만들어주는 비트시프트 연산자는 << 혹은 >>를 하용합니다.<p>\n",
        "왼쪽으로(<<)비트시프트를 하면 2배 커지고, 오른쪽으로(>>)비트시프트를 하면 2로 나눈 몫이 됩니다.<p>\n",
        "n<<1 은 1비트 왼쪽으로 이동으로 2배가 되며 n<<2 는 2비트 왼쪽으로 이동이 되어 4배가 됩니다.<p>\n",
        "n>>1 은 1비트 오른쪽으로 이동으로 반으로 나눈 몫이 되며 n>>2 는 2비트 오른쪽으로 이동으로 반으로 나눈 몫을 반으로 나눈 값이 됩니다.<p>\n",
        "비트시프트는 여러분이 배우기 어려운 과정이므로 수행평가에서는 제외하겠습니다.<p>\n",
        "<<도전자용, 시험에 나오지 않음.>>"
      ]
    },
    {
      "cell_type": "code",
      "metadata": {
        "id": "VV1T3Je7gE5-"
      },
      "source": [
        "n=int(input())\n",
        "print(n<<1)"
      ],
      "execution_count": null,
      "outputs": []
    },
    {
      "cell_type": "markdown",
      "metadata": {
        "id": "Wl6LZUBwgYyQ"
      },
      "source": [
        "1047번 문제<p>\n",
        "비트시프트를 이용해서 정수에 2의 거듭제곱을 곱한 값을 출력하는 문제입니다.<p>\n",
        "왼쪽으로 비트시프트를 할 때마다 2배씩 커지기 때문에 정수 2개(a,b)를 입력받아 a에 2의 b거듭제곱을 곱하는 것은 a를 b번 왼쪽으로 비트시프트를 하는 것과 같습니다.<p>\n",
        "따라서 a<<b 를 하면 a에 2의 b 거듭제곱을 곱한 값이 됩니다.<p>\n",
        "비트시프트는 여러분이 배우기 어려운 과정이므로 수행평가에서는 제외하겠습니다.<p>\n",
        "<<도전자용, 시험에 나오지 않음.>>\n"
      ]
    },
    {
      "cell_type": "code",
      "metadata": {
        "colab": {
          "base_uri": "https://localhost:8080/"
        },
        "id": "GwX4GTg3hhKq",
        "outputId": "73c2982d-1945-4023-aac2-c032bf3b7a25"
      },
      "source": [
        "a,b=input().split()\n",
        "a=int(a)\n",
        "b=int(b)\n",
        "print(a<<b)"
      ],
      "execution_count": null,
      "outputs": [
        {
          "output_type": "stream",
          "name": "stdout",
          "text": [
            "1 3\n",
            "8\n"
          ]
        }
      ]
    }
  ]
}