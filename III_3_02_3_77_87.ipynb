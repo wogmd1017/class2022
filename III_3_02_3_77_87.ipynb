{
  "nbformat": 4,
  "nbformat_minor": 0,
  "metadata": {
    "colab": {
      "provenance": [],
      "collapsed_sections": [],
      "include_colab_link": true
    },
    "kernelspec": {
      "name": "python3",
      "display_name": "Python 3"
    },
    "language_info": {
      "name": "python"
    }
  },
  "cells": [
    {
      "cell_type": "markdown",
      "metadata": {
        "id": "view-in-github",
        "colab_type": "text"
      },
      "source": [
        "<a href=\"https://colab.research.google.com/github/wogmd1017/class2022/blob/main/III_3_02_3_77_87.ipynb\" target=\"_parent\"><img src=\"https://colab.research.google.com/assets/colab-badge.svg\" alt=\"Open In Colab\"/></a>"
      ]
    },
    {
      "cell_type": "markdown",
      "metadata": {
        "id": "R4YeCjM0xOmo"
      },
      "source": [
        "1077번 문제<p>\n",
        "정수n을 입력받아 1부터 n 사이의 짝수를 모두 더한 값을 출력하는 문제입니다.<p>\n",
        "for나 while 편한 대로 사용하면 됩니다.<p>"
      ]
    },
    {
      "cell_type": "code",
      "metadata": {
        "id": "eDTPGZ20xQnK"
      },
      "source": [
        "n=int(input())\n",
        "s=0\n",
        "for i in range(1,n+1):\n",
        "  if i%2==0:\n",
        "    s=s+i\n",
        "print(s)"
      ],
      "execution_count": null,
      "outputs": []
    },
    {
      "cell_type": "code",
      "source": [
        "n=int(input())\n",
        "s=0\n",
        "a=0\n",
        "while a!=n+1:\n",
        "  if a%2==0:\n",
        "    s=s+a\n",
        "  a=a+1\n",
        "print(s)"
      ],
      "metadata": {
        "id": "slek6PL4vKuE"
      },
      "execution_count": null,
      "outputs": []
    },
    {
      "cell_type": "markdown",
      "metadata": {
        "id": "HhBi6kK3xUAw"
      },
      "source": [
        "1078번 문제<p>\n",
        "원하는 문자가 입력될 때까지 입력된 문자를 출력하는 문제입니다.<p>\n",
        "while을 사용하는 것이 편합니다."
      ]
    },
    {
      "cell_type": "code",
      "metadata": {
        "id": "5Nll--vuzsaL"
      },
      "source": [
        "n='a'\n",
        "while n!='q':\n",
        "  n=input()\n",
        "  print(n)"
      ],
      "execution_count": null,
      "outputs": []
    },
    {
      "cell_type": "markdown",
      "metadata": {
        "id": "wAOp61o60DZs"
      },
      "source": [
        "1079번 문제<p>\n",
        "정수 1개를 입력받아 1부터 특정 자연수까지 모두 더한 값이 n보다 크거나 같을 때 마지막에 더한 자연수를 출력하는 문제입니다.<p>"
      ]
    },
    {
      "cell_type": "code",
      "metadata": {
        "id": "4oWgMgUj0qr9"
      },
      "source": [
        "n=int(input())\n",
        "s=0\n",
        "a=0\n",
        "while s<n:\n",
        "  a=a+1\n",
        "  s=s+a\n",
        "print(a)"
      ],
      "execution_count": null,
      "outputs": []
    },
    {
      "cell_type": "markdown",
      "metadata": {
        "id": "crpSwWUb00K5"
      },
      "source": [
        "1080번 문제<p>\n",
        "두 정수를 입력받아 1부터 두 정수까지 적힌 서로 다른 주사위 2개를 던져서 나올 수 있는 모든 경우를 출력하는 문제입니다.<p>\n",
        "반복 구조 안에 반복 구조를 넣는 다중 반복구조 문제입니다.<p>\n",
        "for 내부에 for를 사용해봅시다."
      ]
    },
    {
      "cell_type": "code",
      "metadata": {
        "id": "vhPEZLr21Igr"
      },
      "source": [
        "n,m=input().split()\n",
        "n=int(n)\n",
        "m=int(m)\n",
        "for i in range(1, n+1) :\n",
        "  for j in range(1, m+1) :\n",
        "    print(i, j)"
      ],
      "execution_count": null,
      "outputs": []
    },
    {
      "cell_type": "markdown",
      "metadata": {
        "id": "LG7YymzJ2OWP"
      },
      "source": [
        "1081번 문제<p>\n",
        "16진법에 관한 문제라서 넘어갑니다.<p>"
      ]
    },
    {
      "cell_type": "markdown",
      "metadata": {
        "id": "1Jdkk-cp3OQY"
      },
      "source": [
        "1082번 문제<p>\n",
        "정수를 입력받고 1부터 그 정수까지 출력하며 숫자에 3,6,9가 적힌 숫자 차례에는 숫자값이 아닌 X를 출력하는 문제입니다.<p>\n",
        "82번 문제는 30보다 작은 정수만 입력받기 때문에 X는 1번만 나옵니다.<p><p>\n",
        "100보다 작은 정수도 도전해봅시다.<p>\n",
        "이 문제에서 X는 박수를 의미해서 도전문제에서 30보다 큰 33의 경우 XX로 박수를 2번 쳐야 됩니다."
      ]
    },
    {
      "cell_type": "code",
      "metadata": {
        "id": "0CA3UcIz3eQI"
      },
      "source": [
        "n=int(input())\n",
        "for i in range(1,n+1) :\n",
        "  if i%10==3 :\n",
        "    print(\"X\", end=' ')\n",
        "  elif i%10==6 :\n",
        "    print(\"X\", end=' ')\n",
        "  elif i%10==9 :\n",
        "    print(\"X\", end=' ')\n",
        "  else :\n",
        "    print(i, end=' ')"
      ],
      "execution_count": null,
      "outputs": []
    },
    {
      "cell_type": "code",
      "source": [
        "n=int(input())\n",
        "for i in range(1, n+1) :\n",
        "  if i//10%10==3 or i//10%10==6 or i//10%10==9 :\n",
        "    if i%10==3 or i%10==6 or i%10==9 :\n",
        "      print(\"XX\", end=' ')\n",
        "    else :\n",
        "      print(\"X\", end=' ')\n",
        "  else :\n",
        "    if i%10==3 or i%10==6 or i%10==9 :\n",
        "      print(\"X\", end=' ')\n",
        "    else :\n",
        "      print(i, end=' ')"
      ],
      "metadata": {
        "id": "6c-Gco7GjUms"
      },
      "execution_count": null,
      "outputs": []
    },
    {
      "cell_type": "markdown",
      "metadata": {
        "id": "5f0PICtM3niY"
      },
      "source": [
        "1083번 문제<p>\n",
        "세 정수 R,G,B 값을 입력받아 이 3개를 섞어서 만들 수 있는 색깔을 오름차순으로 모두 출력하는 문제입니다.<p>\n",
        "다중 for를 사용하면 편리합니다.<p>"
      ]
    },
    {
      "cell_type": "code",
      "metadata": {
        "id": "KzHeXrqO4hML"
      },
      "source": [
        "r,g,b=input().split()\n",
        "r=int(r)\n",
        "g=int(g)\n",
        "b=int(b)\n",
        "s=0\n",
        "for i in range(0, r) :\n",
        "  for j in range(0, g) :\n",
        "    for k in range(0, b) :\n",
        "      print(i, j, k)\n",
        "      s=s+1\n",
        "print(s)"
      ],
      "execution_count": null,
      "outputs": []
    },
    {
      "cell_type": "markdown",
      "metadata": {
        "id": "tsS-CZiW5MhT"
      },
      "source": [
        "1084번, 1085번 문제<p>\n",
        "84번과 85번은 계산문제이며 소리와 그림의 디지털화 원리를 통해 용량을 계산하여 출력하는 문제입니다.<p>\n",
        "원리 설명은 이론시간에 할 예정이라 넘어가도록 하겠습니다.<p>"
      ]
    },
    {
      "cell_type": "markdown",
      "metadata": {
        "id": "O8zLNTbbEMS6"
      },
      "source": [
        "1086번 문제<p>\n",
        "정수 1개를 입력받아 1부터 특정한 자연수까지의 합이 n보다 커질 때 그 합을 출력하는 문제입니다.<p>\n",
        "1079번 문제와 거의 유사하나 while 안에 break를 사용하는 것을 보여주는 문제로 while문과 break 사용을 익혀봅시다."
      ]
    },
    {
      "cell_type": "code",
      "metadata": {
        "id": "Vg7G1Cd-E5w6"
      },
      "source": [
        "n=int(input())\n",
        "s=0\n",
        "c=0\n",
        "while True:\n",
        "  s+=c\n",
        "  c+=1\n",
        "  if s>=n:\n",
        "    break\n",
        "print(s)"
      ],
      "execution_count": null,
      "outputs": []
    },
    {
      "cell_type": "markdown",
      "metadata": {
        "id": "OfDYCBEuFIbG"
      },
      "source": [
        "1087번 문제<p>\n",
        "정수 1개를 입력받아 1부터 그 정수까지 출력하며 3의 배수는 출력하지 않는 문제입니다.<p>\n",
        "for문에서 continue를 사용하는 것을 보여주는 문제로 for문과 continue 사용을 익혀봅시다."
      ]
    },
    {
      "cell_type": "code",
      "metadata": {
        "id": "qhoNrBDbHLbO"
      },
      "source": [
        "n=int(input())\n",
        "for i in range(1,n+1):\n",
        "  if i%3==0:\n",
        "    continue\n",
        "  print(i,end=' ')"
      ],
      "execution_count": null,
      "outputs": []
    },
    {
      "cell_type": "markdown",
      "metadata": {
        "id": "MDb51pC9InRh"
      },
      "source": [
        "1088번 이후 문제<p>\n",
        "1088번 이후 문제는 난이도가 높거나 여러분이 배우지 않은 수학 과정 혹은 파이썬의 배열을 사용하는 문제입니다.<p>\n",
        "따라서 이후는 넘어가도록 하겠습니다."
      ]
    }
  ]
}