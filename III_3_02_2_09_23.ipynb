{
  "nbformat": 4,
  "nbformat_minor": 0,
  "metadata": {
    "colab": {
      "name": "III-3-02_2_09-23.ipynb",
      "provenance": [],
      "collapsed_sections": [],
      "include_colab_link": true
    },
    "kernelspec": {
      "name": "python3",
      "display_name": "Python 3"
    },
    "language_info": {
      "name": "python"
    }
  },
  "cells": [
    {
      "cell_type": "markdown",
      "metadata": {
        "id": "view-in-github",
        "colab_type": "text"
      },
      "source": [
        "<a href=\"https://colab.research.google.com/github/wogmd1017/class2022/blob/main/III_3_02_2_09_23.ipynb\" target=\"_parent\"><img src=\"https://colab.research.google.com/assets/colab-badge.svg\" alt=\"Open In Colab\"/></a>"
      ]
    },
    {
      "cell_type": "markdown",
      "metadata": {
        "id": "R4YeCjM0xOmo"
      },
      "source": [
        "1009번 문제<p>\n",
        "프로그램을 실행한 후 키보드로부터 입력받기위한 명령어는 input 명령어입니다.<p>\n",
        "일반적으로 input() 형식으로 사용합니다.<p>\n",
        "그리고 어떤 값을 저장하기 위해서는 변수를 사용해야 합니다.<p>\n",
        "변수에 어떤 값을 저장할 때는 = 기호(대입연산자)를 사용합니다.<p>\n",
        "그리고 변수를 왼쪽에, 저장할 값을 오른쪽에 적습니다.<p>\n",
        "왼쪽과 오른쪽을 바꾸어 적으면 오류가 나므로 주의해야 합니다.<p>\n",
        "또한 print()를 사용할 때 문자열이 아닌 변수를 사용할 것이므로 따옴표를 사용하지 않습니다.<p>\n",
        "따옴표 사이의 문자는 변수가 아닌 문자로 처리하기 때문입니다."
      ]
    },
    {
      "cell_type": "code",
      "metadata": {
        "id": "eDTPGZ20xQnK",
        "outputId": "be9f4fcb-57c2-4c87-fb50-d00abe895c00",
        "colab": {
          "base_uri": "https://localhost:8080/"
        }
      },
      "source": [
        "n=input()\n",
        "print(n)\n",
        "print(\"n\") #추가코드 따옴표의 역할 확인용"
      ],
      "execution_count": null,
      "outputs": [
        {
          "output_type": "stream",
          "name": "stdout",
          "text": [
            "15\n",
            "15\n",
            "n\n"
          ]
        }
      ]
    },
    {
      "cell_type": "markdown",
      "metadata": {
        "id": "HhBi6kK3xUAw"
      },
      "source": [
        "1010번 문제<p>\n",
        "input()으로 문자 1개를 입력받아 출력하는 문제이므로 1009번과 코드는 같습니다.<p>\n",
        "파이썬은 특성상 변수의 유형을 정하지 않아도 자동으로 저장하며 조심해야 할 점은 input() 으로 저장한 값은 숫자가 아닌 문자나 문자열로 저장합니다.<p>\n",
        "보통 변수명으로 n은 자연수, c는 문자, f는 실수로 많이 사용하지만 꼭 그럴 필요는 없습니다."
      ]
    },
    {
      "cell_type": "code",
      "metadata": {
        "id": "5Nll--vuzsaL"
      },
      "source": [
        "n=input()\n",
        "print(n)"
      ],
      "execution_count": null,
      "outputs": []
    },
    {
      "cell_type": "markdown",
      "metadata": {
        "id": "wAOp61o60DZs"
      },
      "source": [
        "1011번 문제<p>\n",
        "입력받은 실수를 출력하는 문제로 1009, 1010과 코드는 같습니다.<p>"
      ]
    },
    {
      "cell_type": "code",
      "metadata": {
        "id": "4oWgMgUj0qr9"
      },
      "source": [
        "f=input()\n",
        "print(f)"
      ],
      "execution_count": null,
      "outputs": []
    },
    {
      "cell_type": "markdown",
      "metadata": {
        "id": "crpSwWUb00K5"
      },
      "source": [
        "1012번 문제<p>\n",
        "입력 또한 줄을 바꿔 입력을 받으려면 input()을 줄을 바꿔 사용하면 됩니다.<p>\n",
        "대신 변수에 저장해야 하므로 변수에 입력하는 코드를 줄을 바꿔 적으면 됩니다."
      ]
    },
    {
      "cell_type": "code",
      "metadata": {
        "id": "vhPEZLr21Igr"
      },
      "source": [
        "a=input()\n",
        "b=input()\n",
        "print(a)\n",
        "print(b)\n",
        "print(a,b) #추가 코드 줄을 바꿔 출력과 한 줄에 출력 비교용"
      ],
      "execution_count": null,
      "outputs": []
    },
    {
      "cell_type": "markdown",
      "metadata": {
        "id": "LG7YymzJ2OWP"
      },
      "source": [
        "1013번 문제<p>\n",
        "줄을 바꿔 문자 2개를 입력받고 순서를 바꿔 한 줄씩 출력하는 문제입니다.<p>\n",
        "입력은 1012와 같이 받고 출력만 순서를 바꾸면 됩니다.<p>"
      ]
    },
    {
      "cell_type": "code",
      "metadata": {
        "id": "rTpJ3mnB2eH5"
      },
      "source": [
        "a=input()\n",
        "b=input()\n",
        "print(b)\n",
        "print(a)"
      ],
      "execution_count": null,
      "outputs": []
    },
    {
      "cell_type": "markdown",
      "metadata": {
        "id": "1Jdkk-cp3OQY"
      },
      "source": [
        "1014번 문제<p>\n",
        "실수 하나를 입력받고 줄을 바꿔 3번 출력하는 문제입니다.<p>\n",
        "줄을 바꿔 3번 출력이므로 print 문을 줄을 바꿔 3번 적으면 됩니다."
      ]
    },
    {
      "cell_type": "code",
      "metadata": {
        "id": "0CA3UcIz3eQI",
        "colab": {
          "base_uri": "https://localhost:8080/"
        },
        "outputId": "11bbd151-1168-4365-ae7d-d2a79b4fae28"
      },
      "source": [
        "f=input()\n",
        "print(f)\n",
        "print(f)\n",
        "print(f)"
      ],
      "execution_count": null,
      "outputs": [
        {
          "output_type": "stream",
          "name": "stdout",
          "text": [
            "15\n",
            "15\n",
            "15\n",
            "15\n"
          ]
        }
      ]
    },
    {
      "cell_type": "code",
      "metadata": {
        "id": "hNRw5bsCYKBC"
      },
      "source": [
        "f=input()\n",
        "print(f) print(f) print(f)"
      ],
      "execution_count": null,
      "outputs": []
    },
    {
      "cell_type": "code",
      "metadata": {
        "id": "ubhaAtS1cCgH",
        "colab": {
          "base_uri": "https://localhost:8080/"
        },
        "outputId": "dde1d4fc-cfcf-4e08-d527-95f033c6688e"
      },
      "source": [
        "f=input()\n",
        "print(f),print(f),print(f)"
      ],
      "execution_count": null,
      "outputs": [
        {
          "output_type": "stream",
          "name": "stdout",
          "text": [
            "15\n",
            "15\n",
            "15\n",
            "15\n"
          ]
        },
        {
          "output_type": "execute_result",
          "data": {
            "text/plain": [
              "(None, None, None)"
            ]
          },
          "metadata": {},
          "execution_count": 4
        }
      ]
    },
    {
      "cell_type": "code",
      "metadata": {
        "id": "jusHj8D8YPiX",
        "colab": {
          "base_uri": "https://localhost:8080/"
        },
        "outputId": "4319e252-2907-4e82-b758-9b1748aaf15f"
      },
      "source": [
        "f=input()\n",
        "print(f); print(f); print(f)"
      ],
      "execution_count": null,
      "outputs": [
        {
          "output_type": "stream",
          "name": "stdout",
          "text": [
            "15\n",
            "15\n",
            "15\n",
            "15\n"
          ]
        }
      ]
    },
    {
      "cell_type": "markdown",
      "metadata": {
        "id": "5f0PICtM3niY"
      },
      "source": [
        "1015번 문제<p>\n",
        "입력을 받을 때 공백으로 분리되어 2개를 입력받는 방법입니다.<p>\n",
        "줄을 바꿀 때는 input()을 줄을 바꿔 2번 사용하면 되지만 한 번 입력에 두 개의 값을 받을 때는 split() 명령을 씁니다.<p>\n",
        "참고로 중간에 공백을 많이 넣어도 분리된 대로 입력이 되는 것을 확인할 수 있으며 값을 1개만 입력할 경우 오류가 뜹니다.<p>\n",
        "a,b=input().split() 과 같이 input() 다음에 .(마침표)를 찍고 split()을 사용합니다.<p>\n",
        "이 문제의 경우 출력은 줄을 바꾸라고 했으므로 입력과는 다르게 두 줄로 출력합니다.<p>"
      ]
    },
    {
      "cell_type": "code",
      "metadata": {
        "id": "KzHeXrqO4hML"
      },
      "source": [
        "a,b=input().split()\n",
        "print(a)\n",
        "print(b)"
      ],
      "execution_count": null,
      "outputs": []
    },
    {
      "cell_type": "markdown",
      "metadata": {
        "id": "tsS-CZiW5MhT"
      },
      "source": [
        "1016번 문제<p>\n",
        "공백 분리된 문자 2개를 순서 바꾸어 공백을 주고 출력하는 문제입니다.<p>\n",
        "공백을 두고 한 줄로 출력할 때는 프린트에 , 를 넣으면 됩니다."
      ]
    },
    {
      "cell_type": "code",
      "metadata": {
        "id": "eCzhrvv45eTH",
        "colab": {
          "base_uri": "https://localhost:8080/"
        },
        "outputId": "20f1073f-a051-42e4-b913-313aaf7b9bfa"
      },
      "source": [
        "c1,c2=input().split()\n",
        "print(c2,c1)"
      ],
      "execution_count": null,
      "outputs": [
        {
          "output_type": "stream",
          "name": "stdout",
          "text": [
            "a b\n",
            "b a\n"
          ]
        }
      ]
    },
    {
      "cell_type": "markdown",
      "metadata": {
        "id": "O8zLNTbbEMS6"
      },
      "source": [
        "1017번 문제<p>\n",
        "값을 1개만 입력받아 한 줄에 공백 구분해서 3번 출력하는 문제입니다.<p>\n",
        "입력받는 변수는 동일하게 처리하면 되고 출력은 ,를 두 번 사용해서 3번 출력시키면 됩니다."
      ]
    },
    {
      "cell_type": "code",
      "metadata": {
        "id": "Vg7G1Cd-E5w6"
      },
      "source": [
        "s=input()\n",
        "print(s,s,s)\n",
        "print(s) #추가 코드 한 줄에 출력과 줄을 바꿔 출력 비교용\n",
        "print(s)\n",
        "print(s)"
      ],
      "execution_count": null,
      "outputs": []
    },
    {
      "cell_type": "markdown",
      "metadata": {
        "id": "OfDYCBEuFIbG"
      },
      "source": [
        "1018번 문제<p>\n",
        "24시 형태로 시:분 으로 입력받아서 시와 분을 따로 변수에 저장하고 : 기호를 사이에 두고 출력하는 문제입니다.<p>\n",
        "공백으로 입력을 구분할 때는 split()를 사용했는데<p>\n",
        "특수한 기호로 입력을 구분할 때는 괄호 사이에 작은따옴표와 그 기호를 넣으면 됩니다.<p>\n",
        "a,b=input().split(':') <p>\n",
        "출력의 경우 한 줄에 공백으로 띄울 경우 , 로 띄웠는데 사이에 특정한 기호를 넣으려면<p>\n",
        "print() 괄호 안에 제일 마지막에 , sep=':' 와 같이 ,를 넣고 sep=작은따옴표 사이에 분리할 기호를 넣으면 됩니다.<p>\n",
        "--참고--<p>\n",
        "sep는 seperator의 약자로 분리문자를 의미합니다."
      ]
    },
    {
      "cell_type": "code",
      "metadata": {
        "id": "qhoNrBDbHLbO"
      },
      "source": [
        "a,b=input().split(':')\n",
        "print(a,b, sep=':')\n",
        "print(a,b) #추가 코드 sep를 사용하지 않았을 때 비교용"
      ],
      "execution_count": null,
      "outputs": []
    },
    {
      "cell_type": "markdown",
      "metadata": {
        "id": "MDb51pC9InRh"
      },
      "source": [
        "1019번 문제<p>\n",
        "연.월.일 로 입력받아 일-월-연 으로 출력하는 문제입니다.<p>\n",
        "순서를 바꾸려면 연, 월, 일을 분리해서 저장해야 하므로 1018번과 같이 split으로 분리해서 입력하고 sep로 분리해서 출력하면 됩니다."
      ]
    },
    {
      "cell_type": "code",
      "metadata": {
        "id": "2QSDxcotI4W8"
      },
      "source": [
        "y,m,d=input().split('.')\n",
        "print(d,m,y,sep='-')\n",
        "print(d,m,y) #추가 코드 sep를 사용하지 않았을 때 비교용"
      ],
      "execution_count": null,
      "outputs": []
    },
    {
      "cell_type": "markdown",
      "metadata": {
        "id": "-37-NNuUJX7y"
      },
      "source": [
        "1020번 문제<p>\n",
        "주민번호 13자리를 중간에 - 기호로 분리하여 입력받고 출력은 분리기호 없이 13자리를 붙여서 출력하는 문제입니다.<p>\n",
        "앞자리와 뒷자리를 split으로 입력받는 것은 이전 문제대로 하면 되지만 두 변수를 붙여서 출력하는 것이 어려운 점입니다.<p>\n",
        "print에서 ,만 사용하면 공백이 들어가므로 그 사이 아무것도 없게 만들기 위해서는 sep=\"\" 혹은 ''를 넣어서 공백을 없애줍니다.<p>\n",
        "또한 , 사이에 \"\"를 넣으면 ,로 인한 공백 2개가 발생하는 것도 알 수 있습니다."
      ]
    },
    {
      "cell_type": "code",
      "metadata": {
        "id": "-zr6fELKKCmS"
      },
      "source": [
        "a,b=input().split('-')\n",
        "print(a,b,sep='')\n",
        "print(a,b,sep='-') #추가 코드 sep를 비워둘 때와 특정 기호를 넣을 때 확인용\n",
        "print(a,b) #추가 코드 sep를 사용하지 않을 때 확인용\n",
        "print(a,\"\",b) #추가 코드 , 기호 사이로 비어있는 따옴표를 넣을 때 확인용"
      ],
      "execution_count": null,
      "outputs": []
    },
    {
      "cell_type": "markdown",
      "metadata": {
        "id": "5ANPT0m-MK6k"
      },
      "source": [
        "1021번 문제<p>\n",
        "1개의 문자가 아닌 5개의 문자로 이루어진 단어 1개를 입력받아 각 문자를 줄을 바꿔 출력하는 문제입니다.<p>\n",
        "1단어이기에 변수는 1개인데 5개의 문자로 이루어져 있기 때문에 각 문자가 배열의 형태로 저장됩니다.<p>\n",
        "변수명이 S라고 할 때 S의 첫번째 문자는 S[0] 라는 곳에 저장되고, 두번째 문자는 S[1], ... 이런 식으로 저장됩니다.<p>\n",
        "조금 어려운 형태이지만 배열은 유용한 도구이므로 기초적인 것부터 익혀봅시다.<p>\n",
        "<<도전자용, 시험에 나오지 않음.>>"
      ]
    },
    {
      "cell_type": "code",
      "metadata": {
        "id": "BofW0_1APVEr"
      },
      "source": [
        "s=input()\n",
        "print(s[0])\n",
        "print(s[1])\n",
        "print(s[2])\n",
        "print(s[3])\n",
        "print(s[4])"
      ],
      "execution_count": null,
      "outputs": []
    },
    {
      "cell_type": "markdown",
      "metadata": {
        "id": "lyJECPDVPsno"
      },
      "source": [
        "1022번 문제<p>\n",
        "1021번 문제에 이어서 배열을 다루는 문제입니다.<p>\n",
        "6자리 연월일 YYMMDD를 입력받고 이 중 YY만 출력하는 등의 방법입니다.<p>\n",
        "s[0:2] 라고 하면 s[0]부터 s[1]까지 잘라내어 출력하라는 의미입니다.<p>\n",
        "<<도전자용, 시험에 나오지 않음.>>"
      ]
    },
    {
      "cell_type": "code",
      "metadata": {
        "id": "zyv3UCpKQNap"
      },
      "source": [
        "s=input()\n",
        "print(s[0:2])\n",
        "print(s[1:2])\n",
        "print(s[2:2])\n",
        "print(s[2:4])"
      ],
      "execution_count": null,
      "outputs": []
    },
    {
      "cell_type": "code",
      "metadata": {
        "id": "vz6NUlTrQmMk"
      },
      "source": [
        "s=input()\n",
        "print(s[0:2],s[2:4],s[4:6])"
      ],
      "execution_count": null,
      "outputs": []
    },
    {
      "cell_type": "markdown",
      "metadata": {
        "id": "H4PSwSSaRHpL"
      },
      "source": [
        "1023번 문제<p>\n",
        "시:분:초 형식으로 6자리 숫자가 입력되었을 때 분 만 출력하는 문제입니다.<p>\n",
        "1018번처럼 풀어도 되지만 1022번처럼 풀어보시기 바랍니다."
      ]
    },
    {
      "cell_type": "code",
      "metadata": {
        "id": "ejY9AgYmRwaf"
      },
      "source": [
        "a,b,c=input().split(':')\n",
        "print(b)"
      ],
      "execution_count": null,
      "outputs": []
    },
    {
      "cell_type": "code",
      "metadata": {
        "id": "EfB7HUKYR9d4"
      },
      "source": [
        "s=input()\n",
        "print(s[3:5]) #도전자용 정답"
      ],
      "execution_count": null,
      "outputs": []
    }
  ]
}