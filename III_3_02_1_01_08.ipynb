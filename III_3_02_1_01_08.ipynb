{
  "nbformat": 4,
  "nbformat_minor": 0,
  "metadata": {
    "colab": {
      "name": "III-3-02_1_01-08.ipynb",
      "provenance": [],
      "collapsed_sections": [],
      "include_colab_link": true
    },
    "kernelspec": {
      "name": "python3",
      "display_name": "Python 3"
    },
    "language_info": {
      "name": "python"
    }
  },
  "cells": [
    {
      "cell_type": "markdown",
      "metadata": {
        "id": "view-in-github",
        "colab_type": "text"
      },
      "source": [
        "<a href=\"https://colab.research.google.com/github/wogmd1017/class2022/blob/main/III_3_02_1_01_08.ipynb\" target=\"_parent\"><img src=\"https://colab.research.google.com/assets/colab-badge.svg\" alt=\"Open In Colab\"/></a>"
      ]
    },
    {
      "cell_type": "markdown",
      "metadata": {
        "id": "R4YeCjM0xOmo"
      },
      "source": [
        "1001번 문제<p>\n",
        "파이썬에서 특정한 문자열을 출력할 때<p>\n",
        "print(\"문자열\") 혹은<p>\n",
        "print('문자열') 을 기본으로 합니다."
      ]
    },
    {
      "cell_type": "code",
      "metadata": {
        "id": "eDTPGZ20xQnK"
      },
      "source": [
        "print(\"Hello\")\n",
        "print('Hello')"
      ],
      "execution_count": null,
      "outputs": []
    },
    {
      "cell_type": "markdown",
      "metadata": {
        "id": "HhBi6kK3xUAw"
      },
      "source": [
        "1002번 문제<p>\n",
        "print(\"문장1 문장2\") 도 가능하지만<p>\n",
        "print(\"문장1\",\"문장2\") 도 가능합니다."
      ]
    },
    {
      "cell_type": "code",
      "metadata": {
        "id": "5Nll--vuzsaL"
      },
      "source": [
        "print(\"Hello World\")\n",
        "print(\"Hello\",\"World\")"
      ],
      "execution_count": null,
      "outputs": []
    },
    {
      "cell_type": "markdown",
      "metadata": {
        "id": "wAOp61o60DZs"
      },
      "source": [
        "1003번 문제<p>\n",
        "두 줄에 걸쳐 줄을 바꿔 출력할 경우 print를 두 번 사용하고 엔터를 이용해서 두 줄에 걸쳐 씁니다.<p>\n",
        "print(\"Hello\")<p>\n",
        "print(\"World\")<p>\n",
        "파이썬은 코딩할 때 들여쓰기와 줄바꿔쓰기에 의미가 있으므로 조심해서 써야합니다."
      ]
    },
    {
      "cell_type": "code",
      "metadata": {
        "id": "4oWgMgUj0qr9"
      },
      "source": [
        "print(\"Hello\")\n",
        "print(\"World\")"
      ],
      "execution_count": null,
      "outputs": []
    },
    {
      "cell_type": "markdown",
      "metadata": {
        "id": "crpSwWUb00K5"
      },
      "source": [
        "1004번 문제<p>\n",
        "파이썬에서 따옴표 또한 문법의 일부이므로 조심해서 써야합니다.<p>\n",
        "큰 따옴표와 작은 따옴표 2개가 만나면 그 사이를 문장으로 인식하므로 조심해야 합니다.<p>"
      ]
    },
    {
      "cell_type": "code",
      "metadata": {
        "id": "vhPEZLr21Igr"
      },
      "source": [
        "print(\"\"Hello\")"
      ],
      "execution_count": null,
      "outputs": []
    },
    {
      "cell_type": "code",
      "metadata": {
        "id": "6jRowUW_1QuE"
      },
      "source": [
        "print(\"\"Hello\"\")"
      ],
      "execution_count": null,
      "outputs": []
    },
    {
      "cell_type": "code",
      "metadata": {
        "id": "SlHUkdop1XO2"
      },
      "source": [
        "print(\"\"\"\")"
      ],
      "execution_count": null,
      "outputs": []
    },
    {
      "cell_type": "code",
      "metadata": {
        "id": "7tNRxiRO1aj_"
      },
      "source": [
        "print(\"\",\"\")"
      ],
      "execution_count": null,
      "outputs": []
    },
    {
      "cell_type": "code",
      "metadata": {
        "id": "ZgeWaIT91i42"
      },
      "source": [
        "print(\"''\")\n",
        "print('\"\"')"
      ],
      "execution_count": null,
      "outputs": []
    },
    {
      "cell_type": "code",
      "metadata": {
        "id": "aUq1Q6uG15Dw"
      },
      "source": [
        "print(\"'Hello'\")"
      ],
      "execution_count": null,
      "outputs": []
    },
    {
      "cell_type": "markdown",
      "metadata": {
        "id": "LG7YymzJ2OWP"
      },
      "source": [
        "1005번 문제<p>\n",
        "큰따옴표가 들어간 문장을 출력하려면 작은따옴표로 묶어 표현하면 됩니다.<p>\n",
        "반대로 작은따옴표가 들어간 문장을 출력하려면 큰따옴표로 묶어 표현하면 됩니다.<p>\n",
        "print('\"Hello World\"')"
      ]
    },
    {
      "cell_type": "code",
      "metadata": {
        "id": "rTpJ3mnB2eH5"
      },
      "source": [
        "print('\"Hello World\"')\n",
        "print(\"'Hello World'\")"
      ],
      "execution_count": null,
      "outputs": []
    },
    {
      "cell_type": "markdown",
      "metadata": {
        "id": "1Jdkk-cp3OQY"
      },
      "source": [
        "1006번 문제<p>\n",
        "큰따옴표로 묶인 문장이므로 작은따옴표로 묶어 출력하면 됩니다.<p>\n",
        "print('\"!@#$%^&*()\"')"
      ]
    },
    {
      "cell_type": "code",
      "metadata": {
        "id": "0CA3UcIz3eQI"
      },
      "source": [
        "print('\"!@#$%^&*()\"')"
      ],
      "execution_count": null,
      "outputs": []
    },
    {
      "cell_type": "markdown",
      "metadata": {
        "id": "5f0PICtM3niY"
      },
      "source": [
        "1007번 문제<p>\n",
        "큰따옴표로 묶인 파일경로 출력하기입니다<p>\n",
        "마찬가지로 작은따옴표로 묶어 출력하면 됩니다.<p>\n",
        "print('\"C:\\Download\\hello.py\"')<p>\n",
        "--참고--<p>\n",
        "/를 슬래쉬라고 부르고 그 반대인 \\를 역슬래쉬라고 부릅니다.<p>\n",
        "역슬래쉬를 한글 윈도우에서 누르면 \\ 원화로 보이기도 합니다.<p>\n",
        "컴퓨터의 경우 걱정말고 키보드의 백스페이스키 밑의 \\ 를 누르면 됩니다!\n"
      ]
    },
    {
      "cell_type": "code",
      "metadata": {
        "id": "KzHeXrqO4hML"
      },
      "source": [
        "print('\"C:\\Download\\hello.py\"')"
      ],
      "execution_count": null,
      "outputs": []
    },
    {
      "cell_type": "markdown",
      "metadata": {
        "id": "tsS-CZiW5MhT"
      },
      "source": [
        "1008번 문제<p>\n",
        "단순 출력의 제일 마지막 문제는 코드를 출력하는 것입니다.<p>\n",
        "코드 내부에 큰따옴표가 있으니 작은따옴표로 묶으면 되는데 큰따옴표로 묶으면 어떻게 되는지도 살펴보겠습니다.<p>\n",
        "print('print(\"Hello World\")')"
      ]
    },
    {
      "cell_type": "code",
      "metadata": {
        "id": "eCzhrvv45eTH"
      },
      "source": [
        "print('print(\"Hello World\")')"
      ],
      "execution_count": null,
      "outputs": []
    },
    {
      "cell_type": "code",
      "metadata": {
        "id": "MIsZ746x5jvl"
      },
      "source": [
        "print(\"print(\"Hello World\")\")"
      ],
      "execution_count": null,
      "outputs": []
    }
  ]
}