{
  "nbformat": 4,
  "nbformat_minor": 0,
  "metadata": {
    "colab": {
      "name": "III-3-02_3_48-76.ipynb",
      "provenance": [],
      "collapsed_sections": [],
      "include_colab_link": true
    },
    "kernelspec": {
      "name": "python3",
      "display_name": "Python 3"
    },
    "language_info": {
      "name": "python"
    }
  },
  "cells": [
    {
      "cell_type": "markdown",
      "metadata": {
        "id": "view-in-github",
        "colab_type": "text"
      },
      "source": [
        "<a href=\"https://colab.research.google.com/github/wogmd1017/class2022/blob/main/III_3_02_3_48_76.ipynb\" target=\"_parent\"><img src=\"https://colab.research.google.com/assets/colab-badge.svg\" alt=\"Open In Colab\"/></a>"
      ]
    },
    {
      "cell_type": "markdown",
      "metadata": {
        "id": "R4YeCjM0xOmo"
      },
      "source": [
        "1048번 문제<p>\n",
        "두 정수(a,b)를 입력받아 a가 b보다 작으면 True, 그 이외에는 False를 출력하는 문제입니다.<p>\n",
        "비교연산자를 사용하는 문제로 비교연산자의 결과를 출력하면 됩니다.<p>"
      ]
    },
    {
      "cell_type": "code",
      "metadata": {
        "id": "eDTPGZ20xQnK"
      },
      "source": [
        "a,b=input().split()\n",
        "a=int(a)\n",
        "b=int(b)\n",
        "print(a<b)"
      ],
      "execution_count": null,
      "outputs": []
    },
    {
      "cell_type": "markdown",
      "metadata": {
        "id": "HhBi6kK3xUAw"
      },
      "source": [
        "1049번 문제<p>\n",
        "두 정수(a,b)를 입력받아 a와 b의 값이 같으면 True, 그 이외의 경우에는 False를 출력하는 문제입니다.<p>\n",
        "비교연산자 == 를 이용하는 문제입니다."
      ]
    },
    {
      "cell_type": "code",
      "metadata": {
        "id": "5Nll--vuzsaL"
      },
      "source": [
        "a,b=input().split()\n",
        "a=int(a)\n",
        "b=int(b)\n",
        "print(a==b)"
      ],
      "execution_count": null,
      "outputs": []
    },
    {
      "cell_type": "markdown",
      "metadata": {
        "id": "wAOp61o60DZs"
      },
      "source": [
        "1050번 문제<p>\n",
        "두 정수(a,b)를 입력받아 a의 값이 b의 값보다 작거나 같으면 True, 그 이외의 경우에는 False를 출력하는 문제입니다.<p>\n",
        "비교연산자 <= 를 사용하는 문제입니다."
      ]
    },
    {
      "cell_type": "code",
      "metadata": {
        "id": "4oWgMgUj0qr9"
      },
      "source": [
        "a,b=input().split()\n",
        "a=int(a)\n",
        "b=int(b)\n",
        "print(a<=b)"
      ],
      "execution_count": null,
      "outputs": []
    },
    {
      "cell_type": "markdown",
      "metadata": {
        "id": "crpSwWUb00K5"
      },
      "source": [
        "1051번 문제<p>\n",
        "두 정수(a,b)를 입력받아 a의 값과 b의 값이 서로 다르면 True, 그렇지 않으면 False를 출력하는 문제입니다.<p>\n",
        "비교연산자 !=를 사용하는 문제입니다."
      ]
    },
    {
      "cell_type": "code",
      "metadata": {
        "id": "vhPEZLr21Igr"
      },
      "source": [
        "a,b=input().split()\n",
        "a=int(a)\n",
        "b=int(b)\n",
        "print(a!=b)"
      ],
      "execution_count": null,
      "outputs": []
    },
    {
      "cell_type": "markdown",
      "metadata": {
        "id": "LG7YymzJ2OWP"
      },
      "source": [
        "1052번 문제<p>\n",
        "정수가 입력되었을 때, 그 값을 Ture 또는 False로 평가한 값을 출력하는 문제입니다.<p>\n",
        "bool()을 사용해서 값을 평가하여 이를 출력하는 문제입니다."
      ]
    },
    {
      "cell_type": "code",
      "metadata": {
        "id": "rTpJ3mnB2eH5"
      },
      "source": [
        "a=int(input())\n",
        "print(bool(a))"
      ],
      "execution_count": null,
      "outputs": []
    },
    {
      "cell_type": "markdown",
      "metadata": {
        "id": "1Jdkk-cp3OQY"
      },
      "source": [
        "1053번 문제<p>\n",
        "입력된 정수의 True, False 평가값을 반대로 출력하는 문제입니다.<p>\n",
        "not 을 이용하여 평가값을 반대로 만들어 출력합니다."
      ]
    },
    {
      "cell_type": "code",
      "metadata": {
        "id": "0CA3UcIz3eQI"
      },
      "source": [
        "a=bool(int(input()))\n",
        "print(not a)"
      ],
      "execution_count": null,
      "outputs": []
    },
    {
      "cell_type": "markdown",
      "metadata": {
        "id": "5f0PICtM3niY"
      },
      "source": [
        "1054번 문제<p>\n",
        "두 정수 모두 True인 경우 True로 출력되고 그 이외의 경우는 False를 출력하는 문제입니다.<p>\n",
        "bool() 값을 and 연산하는 문제입니다.<p>"
      ]
    },
    {
      "cell_type": "code",
      "metadata": {
        "id": "KzHeXrqO4hML"
      },
      "source": [
        "a,b=input().split()\n",
        "print(bool(int(a)) and bool(int(b)))"
      ],
      "execution_count": null,
      "outputs": []
    },
    {
      "cell_type": "markdown",
      "metadata": {
        "id": "tsS-CZiW5MhT"
      },
      "source": [
        "1055번 문제<p>\n",
        "두 정수중 하나라도 True인 경우 True로 출력하고 그 이외의 경우는 False를 출력하는 문제입니다.<p>\n",
        "bool()값을 or 연산하는 문제입니다.<p>"
      ]
    },
    {
      "cell_type": "code",
      "metadata": {
        "id": "eCzhrvv45eTH"
      },
      "source": [
        "a,b=input().split()\n",
        "print(bool(int(a)) or bool(int(b)))"
      ],
      "execution_count": null,
      "outputs": []
    },
    {
      "cell_type": "markdown",
      "metadata": {
        "id": "O8zLNTbbEMS6"
      },
      "source": [
        "1056번 문제<p>\n",
        "두 정수가 서로 다른 불 값으로 평가될 경우 True를 출력하고, 서로 같은 불 값으로 평가될 경우 False를 출력하는 문제입니다.<p>"
      ]
    },
    {
      "cell_type": "code",
      "metadata": {
        "id": "Vg7G1Cd-E5w6"
      },
      "source": [
        "a,b=input().split()\n",
        "c=bool(int(a))\n",
        "d=bool(int(b))\n",
        "print((c and (not d)) or ((not c) and d))"
      ],
      "execution_count": null,
      "outputs": []
    },
    {
      "cell_type": "markdown",
      "metadata": {
        "id": "OfDYCBEuFIbG"
      },
      "source": [
        "1057번 문제<p>\n",
        "두 정수가 서로 같은 불 값으로 평가될 경우 True를 출력하고, 서로 다른 불 값으로 평가될 경우 False를 출력하는 문제입니다.<p>"
      ]
    },
    {
      "cell_type": "code",
      "metadata": {
        "id": "qhoNrBDbHLbO"
      },
      "source": [
        "a,b=input().split()\n",
        "c=bool(int(a))\n",
        "d=bool(int(b))\n",
        "print((c and d) or ((not c) and (not d)))"
      ],
      "execution_count": null,
      "outputs": []
    },
    {
      "cell_type": "markdown",
      "metadata": {
        "id": "MDb51pC9InRh"
      },
      "source": [
        "1058번 문제<p>\n",
        "두 정수가 모두 False로 평가될 경우 True를 출력하고, 그 이외의 경우 False를 출력하는 문제입니다.<p>"
      ]
    },
    {
      "cell_type": "code",
      "metadata": {
        "id": "2QSDxcotI4W8"
      },
      "source": [
        "a,b=input().split()\n",
        "c=bool(int(a))\n",
        "d=bool(int(b))\n",
        "print((not c) and (not d))"
      ],
      "execution_count": null,
      "outputs": []
    },
    {
      "cell_type": "markdown",
      "metadata": {
        "id": "-37-NNuUJX7y"
      },
      "source": [
        "1059번~1062번 문제<p>\n",
        "비트단위 집합연산 문제입니다.<p>\n",
        "어려운 내용이라 설명하지 않고 넘어가겠습니다.\n"
      ]
    },
    {
      "cell_type": "markdown",
      "metadata": {
        "id": "5ANPT0m-MK6k"
      },
      "source": [
        "1063번~1064번 문제<p>\n",
        "정수 2개를 입력받아 두 수 중에서 큰 값을 출력하는 문제입니다.<p>\n",
        "3항 연산을 사용해야 하므로 이 문제도 넘어가겠습니다."
      ]
    },
    {
      "cell_type": "markdown",
      "metadata": {
        "id": "lyJECPDVPsno"
      },
      "source": [
        "1065번 문제<p>\n",
        "정수 3개를 입력받아 짝수만 출력하는 문제입니다.<p>\n",
        "짝수는 2로 나눈 나머지가 0이고 홀수는 2로 나눈 나머지가 1이라는 사실을 이용합니다."
      ]
    },
    {
      "cell_type": "code",
      "metadata": {
        "id": "zyv3UCpKQNap"
      },
      "source": [
        "a,b,c=input().split()\n",
        "a=int(a)\n",
        "b=int(b)\n",
        "c=int(c)\n",
        "if a%2==0 :\n",
        "  print(a)\n",
        "if b%2==0 :\n",
        "  print(b)\n",
        "if c%2==0 :\n",
        "  print(c)"
      ],
      "execution_count": null,
      "outputs": []
    },
    {
      "cell_type": "markdown",
      "metadata": {
        "id": "H4PSwSSaRHpL"
      },
      "source": [
        "1066번 문제<p>\n",
        "정수 3개를 입력받아 각 정수가 짝(even)인지 홀(odd)인지 출력하는 문제입니다.<p>\n",
        "1065번과 마찬가지로 2로 나눈 나머지라 1이냐 0이냐로 구분하여 출력하면 됩니다."
      ]
    },
    {
      "cell_type": "code",
      "metadata": {
        "id": "ejY9AgYmRwaf"
      },
      "source": [
        "a,b,c=input().split()\n",
        "a=int(a)\n",
        "b=int(b)\n",
        "c=int(c)\n",
        "if a%2==0 :\n",
        "  print('even')\n",
        "else :\n",
        "  print('odd')\n",
        "if b%2==0 :\n",
        "  print('even')\n",
        "else :\n",
        "  print('odd')\n",
        "if c%2==0 :\n",
        "  print('even')\n",
        "else :\n",
        "  print('odd')"
      ],
      "execution_count": null,
      "outputs": []
    },
    {
      "cell_type": "markdown",
      "metadata": {
        "id": "_bMa5jkyJIV1"
      },
      "source": [
        "1067번 문제<p>\n",
        "0이 아닌 정수 1개를 입력받아 음,양,홀,짝을 구별하여 출력하는 문제입니다.<p>\n",
        "음수이면서 짝수이면 A<p>\n",
        "음수이면서 홀수이면 B<p>\n",
        "양수이면서 짝수이면 C<p>\n",
        "양수이면서 홀수이면 D를 출력하면 됩니다."
      ]
    },
    {
      "cell_type": "code",
      "metadata": {
        "id": "oQgD3GP8MF8x"
      },
      "source": [
        "n=int(input())\n",
        "if n<0 :\n",
        "  if n%2==0 :\n",
        "    print('A')\n",
        "  else :\n",
        "    print('B')\n",
        "else :\n",
        "  if n%2==0 :\n",
        "    print('C')\n",
        "  else :\n",
        "    print('D')"
      ],
      "execution_count": null,
      "outputs": []
    },
    {
      "cell_type": "markdown",
      "metadata": {
        "id": "zOGLAvUNMU0D"
      },
      "source": [
        "1068번 문제<p>\n",
        "0-100점 사이의 정수 1개를 입력받아 해당하는 평가를 출력하는 문제입니다.<p>\n",
        "90-100 : A<p>\n",
        "70-89 : B<p>\n",
        "40-69 : C<p>\n",
        "0-39 : D<p>\n",
        "다중 선택 구조입니다."
      ]
    },
    {
      "cell_type": "code",
      "metadata": {
        "id": "9yp0nwmsMX2o"
      },
      "source": [
        "n=input()\n",
        "n=int(n)\n",
        "if n>=90 :\n",
        "  print('A')\n",
        "else :\n",
        "  if n>=70 :\n",
        "    print('B')\n",
        "  else :\n",
        "    if n>=40 :\n",
        "      print('C')\n",
        "    else :\n",
        "      print('D')"
      ],
      "execution_count": null,
      "outputs": []
    },
    {
      "cell_type": "code",
      "metadata": {
        "id": "VzyCMw2jxqY7"
      },
      "source": [
        "n=int(input())\n",
        "if n>=90 :\n",
        "  print('A')\n",
        "elif n>=70 :\n",
        "  print('B')\n",
        "elif n>=40 :\n",
        "  print('C')\n",
        "else :\n",
        "  print('D')"
      ],
      "execution_count": null,
      "outputs": []
    },
    {
      "cell_type": "markdown",
      "metadata": {
        "id": "HHaICLys8aEW"
      },
      "source": [
        "1069번 문제<p>\n",
        "문자 1개를 입력받아 이에 맞는 내용을 출력하는 문제입니다.<p>\n",
        "A : Best!!!<p>\n",
        "B : good!!<p>\n",
        "C : run!<p>\n",
        "D : slowly~<p>\n",
        "나머지 문자 : what?<p>\n",
        "을 출력하는 문제입니다.<p>\n",
        "1068번과 비슷하게 풀면 됩니다."
      ]
    },
    {
      "cell_type": "code",
      "metadata": {
        "id": "XZ_MEMXJ9VBB"
      },
      "source": [
        "n=input()\n",
        "if n=='A' :\n",
        "  print('best!!!')\n",
        "else :\n",
        "  if n=='B' :\n",
        "    print('good!!')\n",
        "  else :\n",
        "    if n=='C' :\n",
        "      print('run!')\n",
        "    else :\n",
        "      if n=='D' :\n",
        "        print('slowly~')\n",
        "      else :\n",
        "        print('what?')"
      ],
      "execution_count": null,
      "outputs": []
    },
    {
      "cell_type": "code",
      "metadata": {
        "id": "mHmDMjItzFxF"
      },
      "source": [
        "n=input()\n",
        "if n=='A' :\n",
        "  print('best!!!')\n",
        "elif n=='B' :\n",
        "  print('good!!')\n",
        "elif n=='C' :\n",
        "  print('run!')\n",
        "elif n=='D' :\n",
        "  print('slowly~')\n",
        "else :\n",
        "  print('what?')"
      ],
      "execution_count": null,
      "outputs": []
    },
    {
      "cell_type": "markdown",
      "metadata": {
        "id": "KQ-KJEjf-dtP"
      },
      "source": [
        "1070번 문제<p>\n",
        "월을 정수로 입력받아 해당하는 계절을 출력하는 문제입니다.<p>\n",
        "12,1,2 : winter<p>\n",
        "3,4,5 : spring<p>\n",
        "6,7,8 : summer<p>\n",
        "9,10,11 : fall<p>\n",
        "입력받은 월을 3으로 나눈 몫이 1이면 spring, 2면 summer, 3이면 fall, 4혹은 0이면 winter를 출력하면 됩니다.<p>\n",
        "월은 1~12인 정수만 입력되는 것을 주의하면 됩니다."
      ]
    },
    {
      "cell_type": "code",
      "metadata": {
        "id": "F2mnwY_Kbrlc"
      },
      "source": [
        "n=input()\n",
        "n=int(n)\n",
        "if n//3==0 :\n",
        "  print('winter')\n",
        "else :\n",
        "  if n//3==1 :\n",
        "    print('spring')\n",
        "  else :\n",
        "    if n//3==2 :\n",
        "      print('summer')\n",
        "    else :\n",
        "      if n//3==3 :\n",
        "        print('fall')\n",
        "      else :\n",
        "        print('winter')"
      ],
      "execution_count": null,
      "outputs": []
    },
    {
      "cell_type": "code",
      "metadata": {
        "id": "An-IJgzI0srN"
      },
      "source": [
        "n=input()\n",
        "n=int(n)\n",
        "if n//3==0 :\n",
        "  print('winter')\n",
        "elif n//3==1 :\n",
        "  print('spring')\n",
        "elif n//3==2 :\n",
        "  print('summer')\n",
        "elif n//3==3 :\n",
        "  print('fall')\n",
        "else :\n",
        "  print('winter')"
      ],
      "execution_count": null,
      "outputs": []
    },
    {
      "cell_type": "markdown",
      "metadata": {
        "id": "ADulNuEPc3R_"
      },
      "source": [
        "1071번 문제<p>\n",
        "정수를 계속 입력받고, 입력받은 값을 그대로 출력하다가 0이 입력되면 멈추는 문제입니다.<p>\n",
        "반복은 while과 for가 있으며 대부분은 둘 다 사용할 수 있지만 이 문제의 경우는 for를 사용하려면 매우 어렵기 때문에 while을 사용하는 것이 훨씬 편합니다."
      ]
    },
    {
      "cell_type": "code",
      "metadata": {
        "id": "3CPfOOkyeR17"
      },
      "source": [
        "n=1  #다음 줄의 n!=0 이 아니기 위해 0이 아닌 임의의 정수를 저장\n",
        "while n!=0 :\n",
        "  n=int(input())\n",
        "  if n!=0 :\n",
        "    print(n)"
      ],
      "execution_count": null,
      "outputs": []
    },
    {
      "cell_type": "markdown",
      "metadata": {
        "id": "cx6A8tz-en1k"
      },
      "source": [
        "1072번 문제<p>\n",
        "1-100 사이의 정수 1개를 입력받아 1까지 카운트다운을 출력하는 문제입니다.<p>\n",
        "while과 for를 둘 다 사용하기 쉬운 문제로 둘 다 작성해봅시다."
      ]
    },
    {
      "cell_type": "code",
      "metadata": {
        "id": "VV1T3Je7gE5-"
      },
      "source": [
        "n=int(input())\n",
        "while n!=0 :\n",
        "  print(n)\n",
        "  n=n-1"
      ],
      "execution_count": null,
      "outputs": []
    },
    {
      "cell_type": "code",
      "metadata": {
        "id": "Tu4LWjm52z_D"
      },
      "source": [
        "n=int(input())\n",
        "for i in range(n,0,-1) :\n",
        "  print(i)"
      ],
      "execution_count": null,
      "outputs": []
    },
    {
      "cell_type": "markdown",
      "metadata": {
        "id": "Wl6LZUBwgYyQ"
      },
      "source": [
        "1073번 문제<p>\n",
        "1072번과 거의 같지만 입력한 수는 제외하고, 1이 아닌 0까지 카운트다운을 출력하는 문제입니다.<p>\n",
        "조건을 어떻게 써야하는 지 잘 생각해야 하는 문제입니다.<p>\n",
        "특히 while같은 경우 순서에 유념해서 잘 생각해봅시다."
      ]
    },
    {
      "cell_type": "code",
      "metadata": {
        "id": "GwX4GTg3hhKq"
      },
      "source": [
        "n=int(input())\n",
        "while n!=0 :\n",
        "  n=n-1\n",
        "  print(n)\n",
        "  "
      ],
      "execution_count": null,
      "outputs": []
    },
    {
      "cell_type": "code",
      "metadata": {
        "id": "2mPgMbTB4R0H"
      },
      "source": [
        "n=int(input())\n",
        "while n!=0 :\n",
        "  print(n-1)\n",
        "  n=n-1"
      ],
      "execution_count": null,
      "outputs": []
    },
    {
      "cell_type": "code",
      "metadata": {
        "id": "QfOr6JTS3m-m"
      },
      "source": [
        "n=int(input())\n",
        "for i in range(n-1,-1,-1) :\n",
        "  print(i)"
      ],
      "execution_count": null,
      "outputs": []
    },
    {
      "cell_type": "code",
      "metadata": {
        "id": "zgYuOzyH4kHK"
      },
      "source": [
        "n=int(input())\n",
        "for i in range(n,0,-1) :\n",
        "  print(i-1)"
      ],
      "execution_count": null,
      "outputs": []
    },
    {
      "cell_type": "markdown",
      "metadata": {
        "id": "8MmEKkxS46fv"
      },
      "source": [
        "1074번 문제<p>\n",
        "문자 코드값을 이용하는 문제이므로 넘어가겠습니다."
      ]
    },
    {
      "cell_type": "markdown",
      "metadata": {
        "id": "Pn16gk9e5C2l"
      },
      "source": [
        "1075번,1076번 문제<p>\n",
        "카운트다운과 반대로 정수 1개를 입력받아 0부터 그 수까지 출력하는 문제입니다.<p>\n",
        "이 문제도 while과 for로 풀어보겠습니다."
      ]
    },
    {
      "cell_type": "code",
      "metadata": {
        "id": "GWBoH-2N5Q5o"
      },
      "source": [
        "n=int(input())\n",
        "a=0\n",
        "while a!=n+1 :\n",
        "  print(a)\n",
        "  a=a+1"
      ],
      "execution_count": null,
      "outputs": []
    },
    {
      "cell_type": "code",
      "metadata": {
        "id": "ddoBM9xZ5ojC"
      },
      "source": [
        "n=int(input())\n",
        "for i in range(n+1) :\n",
        "  print(i)"
      ],
      "execution_count": null,
      "outputs": []
    }
  ]
}